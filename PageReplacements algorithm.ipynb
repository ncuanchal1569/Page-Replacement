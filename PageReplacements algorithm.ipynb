{
 "cells": [
  {
   "cell_type": "markdown",
   "metadata": {},
   "source": [
    "# FIFO(First in first out)"
   ]
  },
  {
   "cell_type": "code",
   "execution_count": 9,
   "metadata": {},
   "outputs": [
    {
     "name": "stdout",
     "output_type": "stream",
     "text": [
      "7\n"
     ]
    }
   ],
   "source": [
    "# Python3 implementation of FIFO page \n",
    "# replacement in Operating Systems. \n",
    "from queue import Queue  \n",
    "  \n",
    "# Function to find page faults using FIFO  \n",
    "def pageFaults(pages, n, capacity): \n",
    "      \n",
    "    # To represent set of current pages.  \n",
    "    # We use an unordered_set so that we \n",
    "    # quickly check if a page is present \n",
    "    # in set or not  \n",
    "    s = set()  \n",
    "  \n",
    "    # To store the pages in FIFO manner  \n",
    "    indexes = Queue()  \n",
    "  \n",
    "    # Start from initial page  \n",
    "    page_faults = 0\n",
    "    for i in range(n): \n",
    "          \n",
    "        # Check if the set can hold  \n",
    "        # more pages  \n",
    "        if (len(s) < capacity): \n",
    "              \n",
    "            # Insert it into set if not present  \n",
    "            # already which represents page fault  \n",
    "            if (pages[i] not in s): \n",
    "                s.add(pages[i])  \n",
    "  \n",
    "                # increment page fault  \n",
    "                page_faults += 1\n",
    "  \n",
    "                # Push the current page into \n",
    "                # the queue  \n",
    "                indexes.put(pages[i]) \n",
    "  \n",
    "        # If the set is full then need to perform FIFO  \n",
    "        # i.e. remove the first page of the queue from  \n",
    "        # set and queue both and insert the current page  \n",
    "        else: \n",
    "              \n",
    "            # Check if current page is not  \n",
    "            # already present in the set  \n",
    "            if (pages[i] not in s): \n",
    "                  \n",
    "                # Pop the first page from the queue  \n",
    "                val = indexes.queue[0]  \n",
    "  \n",
    "                indexes.get()  \n",
    "  \n",
    "                # Remove the indexes page  \n",
    "                s.remove(val)  \n",
    "  \n",
    "                # insert the current page  \n",
    "                s.add(pages[i])  \n",
    "  \n",
    "                # push the current page into  \n",
    "                # the queue  \n",
    "                indexes.put(pages[i])  \n",
    "  \n",
    "                # Increment page faults  \n",
    "                page_faults += 1\n",
    "  \n",
    "    return page_faults \n",
    "  \n",
    "# Driver code  \n",
    "if __name__ == '__main__': \n",
    "    pages = [7, 0, 1, 2, 0, 3, 0,  \n",
    "                4, 2, 3, 0, 3, 2]  \n",
    "    n = len(pages)  \n",
    "    capacity = 4\n",
    "    print(pageFaults(pages, n, capacity))"
   ]
  },
  {
   "cell_type": "markdown",
   "metadata": {},
   "source": [
    "# Optimal Page replacement:"
   ]
  },
  {
   "cell_type": "code",
   "execution_count": 7,
   "metadata": {},
   "outputs": [
    {
     "name": "stdout",
     "output_type": "stream",
     "text": [
      "Enter the number of frames: 3\n",
      "Enter the reference string: 7\n",
      "\n",
      "String|Frame →\t0 1 2 Fault\n",
      "   ↓\n",
      "\n",
      "   7\t\t7      Yes\n",
      "\n",
      "Total requests: 1\n",
      "Total Page Faults: 1\n",
      "Fault Rate: 100.00%\n"
     ]
    }
   ],
   "source": [
    "print(\"Enter the number of frames: \",end=\"\")\n",
    "capacity = int(input())\n",
    "f,fault,pf = [],0,'No'\n",
    "print(\"Enter the reference string: \",end=\"\")\n",
    "s = list(map(int,input().strip().split()))\n",
    "print(\"\\nString|Frame →\\t\",end='')\n",
    "for i in range(capacity):\n",
    "    print(i,end=' ')\n",
    "print(\"Fault\\n   ↓\\n\")\n",
    "occurance = [None for i in range(capacity)]\n",
    "for i in range(len(s)):\n",
    "    if s[i] not in f:\n",
    "        if len(f)<capacity:\n",
    "            f.append(s[i])\n",
    "        else:\n",
    "            for x in range(len(f)):\n",
    "                if f[x] not in s[i+1:]:\n",
    "                    f[x] = s[i]\n",
    "                    break\n",
    "                else:\n",
    "                    occurance[x] = s[i+1:].index(f[x])\n",
    "            else:\n",
    "                f[occurance.index(max(occurance))] = s[i]\n",
    "        fault += 1\n",
    "        pf = 'Yes'\n",
    "    else:\n",
    "        pf = 'No'\n",
    "    print(\"   %d\\t\\t\"%s[i],end='')\n",
    "    for x in f:\n",
    "        print(x,end=' ')\n",
    "    for x in range(capacity-len(f)):\n",
    "        print(' ',end=' ')\n",
    "    print(\" %s\"%pf)\n",
    "print(\"\\nTotal requests: %d\\nTotal Page Faults: %d\\nFault Rate: %0.2f%%\"%(len(s),fault,(fault/len(s))*100))"
   ]
  },
  {
   "cell_type": "markdown",
   "metadata": {},
   "source": [
    "# LRU:"
   ]
  },
  {
   "cell_type": "code",
   "execution_count": 8,
   "metadata": {},
   "outputs": [
    {
     "name": "stdout",
     "output_type": "stream",
     "text": [
      "Enter the number of frames: 4\n",
      "Enter the reference string: 5\n",
      "\n",
      "String|Frame →\t0 1 2 3 Fault\n",
      "   ↓\n",
      "\n",
      "   5\t\t5        Yes\n",
      "\n",
      "Total Requests: 1\n",
      "Total Page Faults: 1\n",
      "Fault Rate: 100.00%\n"
     ]
    }
   ],
   "source": [
    "print(\"Enter the number of frames: \",end=\"\")\n",
    "capacity = int(input())\n",
    "f,st,fault,pf = [],[],0,'No'\n",
    "print(\"Enter the reference string: \",end=\"\")\n",
    "s = list(map(int,input().strip().split()))\n",
    "print(\"\\nString|Frame →\\t\",end='')\n",
    "for i in range(capacity):\n",
    "    print(i,end=' ')\n",
    "print(\"Fault\\n   ↓\\n\")\n",
    "for i in s:\n",
    "    if i not in f:\n",
    "        if len(f)<capacity:\n",
    "            f.append(i)\n",
    "            st.append(len(f)-1)\n",
    "        else:\n",
    "            ind = st.pop(0)\n",
    "            f[ind] = i\n",
    "            st.append(ind)\n",
    "        pf = 'Yes'\n",
    "        fault += 1\n",
    "    else:\n",
    "        st.append(st.pop(st.index(f.index(i))))\n",
    "        pf = 'No'\n",
    "    print(\"   %d\\t\\t\"%i,end='')\n",
    "    for x in f:\n",
    "        print(x,end=' ')\n",
    "    for x in range(capacity-len(f)):\n",
    "        print(' ',end=' ')\n",
    "    print(\" %s\"%pf)\n",
    "print(\"\\nTotal Requests: %d\\nTotal Page Faults: %d\\nFault Rate: %0.2f%%\"%(len(s),fault,(fault/len(s))*100))"
   ]
  },
  {
   "cell_type": "code",
   "execution_count": null,
   "metadata": {},
   "outputs": [],
   "source": []
  }
 ],
 "metadata": {
  "kernelspec": {
   "display_name": "Python 3",
   "language": "python",
   "name": "python3"
  },
  "language_info": {
   "codemirror_mode": {
    "name": "ipython",
    "version": 3
   },
   "file_extension": ".py",
   "mimetype": "text/x-python",
   "name": "python",
   "nbconvert_exporter": "python",
   "pygments_lexer": "ipython3",
   "version": "3.8.3"
  }
 },
 "nbformat": 4,
 "nbformat_minor": 4
}
